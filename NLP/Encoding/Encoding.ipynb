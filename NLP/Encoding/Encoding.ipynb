{
 "cells": [
  {
   "cell_type": "markdown",
   "id": "c709b0de",
   "metadata": {},
   "source": [
    "\n",
    "Embedding:\n",
    "----------\n",
    "\n",
    "Embedding is a technique used to represent high-dimensional data (like words or items) in a low-dimensional space.\n",
    "It essentially converts discrete data (like words) into continuous vector representations.\n",
    "\n",
    "\n",
    "\n",
    "Why Use Embedding :\n",
    "-------------------\n",
    "\n",
    "To capture the semantic meaning of words or items.\n",
    "\n",
    "To reduce dimensionality and make data manageable.\n",
    "\n",
    "To find relationships or similarities between items.\n",
    "\n",
    "To make data compatible with neural networks.\n",
    "\n",
    "\n",
    "\n",
    "Types of Embeddings:\n",
    "--------------------\n",
    "\n",
    "Word Embeddings (Text):\n",
    "------------------------\n",
    "\n",
    "Represent words as vectors in a continuous vector space.\n",
    "\n",
    "Common Techniques:\n",
    "------------------\n",
    "\n",
    "Word2Vec: Uses CBOW or Skip-Gram to learn word vectors.\n",
    "\n",
    "GloVe (Global Vectors): Captures word co-occurrence statistics.\n",
    "\n",
    "FastText: Considers subword information, good for rare words.\n",
    "\n",
    "ELMo (Embeddings from Language Models): Contextual embeddings using BiLSTM.\n",
    "\n",
    "BERT Embeddings: Contextual embeddings using Transformers.\n",
    "\n",
    "\n",
    "\n",
    "\n",
    "Document Embeddings (Sentences/Paragraphs):\n",
    "----------------------------------------------\n",
    "\n",
    "Encodes entire sentences or paragraphs as vectors.\n",
    "\n",
    "Techniques:\n",
    "-----------\n",
    "\n",
    "Doc2Vec: An extension of Word2Vec for sentences.\n",
    "\n",
    "BERT Sentence Embeddings: Context-aware embeddings for sentences.\n",
    "\n",
    "\n",
    "\n",
    "Image Embeddings:\n",
    "------------------\n",
    "\n",
    "Transforms images into vectors.\n",
    "\n",
    "Techniques:\n",
    "----------\n",
    "\n",
    "CNN-based Embeddings: Extracts features from images.\n",
    "\n",
    "Pre-trained Models: VGG, ResNet for image vectorization.\n",
    "\n",
    "\n",
    "\n",
    "Graph Embeddings:\n",
    "-----------------\n",
    "\n",
    "Represents graph nodes or structures as vectors.\n",
    "\n",
    "Techniques:\n",
    "----------\n",
    "\n",
    "Node2Vec: Learns node embeddings through random walks.\n",
    "\n",
    "DeepWalk: Similar to Node2Vec but uses uniform sampling.\n",
    "\n",
    "GraphSAGE: Samples neighborhoods for embedding learning.\n",
    "\n",
    "\n",
    "\n",
    "Categorical Embeddings (Tabular Data):\n",
    "--------------------------------------\n",
    "\n",
    "Converts categorical features into continuous vectors.\n",
    "\n",
    "Techniques:\n",
    "------------\n",
    "\n",
    "One-Hot Encoding + Dense Layer: Learns embeddings during training.\n",
    "\n",
    "Embedding Layer in Neural Networks: Common in recommendation systems.\n",
    "\n"
   ]
  },
  {
   "cell_type": "markdown",
   "id": "b458eb9f",
   "metadata": {},
   "source": [
    "\n",
    "Encoding:\n",
    "--------\n",
    "\n",
    "Encoding is the process of converting data from one format to another. \n",
    "It often transforms categorical or textual data into numerical format to be used in machine learning models.\n",
    "\n",
    "\n",
    "Types of Encoding:\n",
    "-----------------\n",
    "\n",
    "Label Encoding:\n",
    "---------------\n",
    "\n",
    "Converts each unique category to an integer.\n",
    "\n",
    "\n",
    "Red → 0, Blue → 1, Green → 2\n",
    "\n",
    "\n",
    "Usage: Ordinal data (like size: Small, Medium, Large).\n",
    "\n",
    "\n",
    "\n",
    "One-Hot Encoding:\n",
    "---------------\n",
    "\n",
    "Creates a binary column for each category.\n",
    "\n",
    "\n",
    "Red → [1,0,0], Blue → [0,1,0], Green → [0,0,1]\n",
    "\n",
    "\n",
    "Usage: Categorical data without inherent order.\n",
    "\n",
    "\n",
    "\n",
    "Binary Encoding:\n",
    "----------------\n",
    "\n",
    "Converts categories to binary numbers.\n",
    "\n",
    "\n",
    "Category A → 001, B → 010, C → 011\n",
    "\n",
    "Usage: High-cardinality categorical variables.\n",
    "\n",
    "\n",
    "\n",
    "Ordinal Encoding:\n",
    "----------------\n",
    "\n",
    "Encodes categories with a meaningful order.\n",
    "\n",
    "\n",
    "Low → 1, Medium → 2, High → 3\n",
    "\n",
    "Usage: When the order of categories matters.\n",
    "\n",
    "\n",
    "\n",
    "Frequency Encoding:\n",
    "------------------\n",
    "\n",
    "Encodes categories based on their frequency in the dataset.\n",
    "\n",
    "\n",
    "Red (10 times) → 0.1, Blue (20 times) → 0.2\n",
    "\n",
    "Usage: When the frequency of occurrence is important.\n",
    "\n",
    "\n",
    "\n",
    "Target Encoding:\n",
    "---------------\n",
    "\n",
    "Encodes categories based on the mean of the target variable.\n",
    "\n",
    "\n",
    "Category A → 0.3 (mean of target for category A)\n",
    "\n",
    "Usage: Handling categorical variables with respect to the target.\n",
    "\n"
   ]
  },
  {
   "cell_type": "code",
   "execution_count": 25,
   "id": "9eecbf81",
   "metadata": {},
   "outputs": [],
   "source": [
    "from tensorflow.keras.preprocessing.text import one_hot"
   ]
  },
  {
   "cell_type": "code",
   "execution_count": 26,
   "id": "ee4cf003",
   "metadata": {},
   "outputs": [],
   "source": [
    "### sentences\n",
    "sent=[  'the glass of milk',\n",
    "     'the glass of juice',\n",
    "     'the cup of tea',\n",
    "    'I am a good boy',\n",
    "     'I am a good developer',\n",
    "     'understand the meaning of words',\n",
    "     'your videos are good',]"
   ]
  },
  {
   "cell_type": "code",
   "execution_count": 27,
   "id": "8b23d9ab",
   "metadata": {},
   "outputs": [
    {
     "data": {
      "text/plain": [
       "['the glass of milk',\n",
       " 'the glass of juice',\n",
       " 'the cup of tea',\n",
       " 'I am a good boy',\n",
       " 'I am a good developer',\n",
       " 'understand the meaning of words',\n",
       " 'your videos are good']"
      ]
     },
     "execution_count": 27,
     "metadata": {},
     "output_type": "execute_result"
    }
   ],
   "source": [
    "sent"
   ]
  },
  {
   "cell_type": "code",
   "execution_count": 28,
   "id": "76a8bc96",
   "metadata": {},
   "outputs": [],
   "source": [
    "### Vocabulary size   --- Total size of vocabulary\n",
    "voc_size=10000"
   ]
  },
  {
   "cell_type": "markdown",
   "id": "68f8f584",
   "metadata": {},
   "source": [
    "#### One Hot Representation"
   ]
  },
  {
   "cell_type": "code",
   "execution_count": 29,
   "id": "8a6fb4f4",
   "metadata": {},
   "outputs": [
    {
     "name": "stdout",
     "output_type": "stream",
     "text": [
      "[[9499, 6526, 7681, 9648], [9499, 6526, 7681, 9883], [9499, 3651, 7681, 2738], [9111, 8944, 2167, 1209, 4980], [9111, 8944, 2167, 1209, 1114], [7952, 9499, 3754, 7681, 6490], [1604, 3696, 6464, 1209]]\n"
     ]
    }
   ],
   "source": [
    "onehot_repr=[one_hot(words,voc_size)for words in sent]\n",
    "print(onehot_repr)"
   ]
  },
  {
   "cell_type": "markdown",
   "id": "02db2aa6",
   "metadata": {},
   "source": [
    "### Word Embedding Represntation"
   ]
  },
  {
   "cell_type": "code",
   "execution_count": 30,
   "id": "9d185dbd",
   "metadata": {},
   "outputs": [],
   "source": [
    "from tensorflow.keras.layers import Embedding\n",
    "from tensorflow.keras.preprocessing.sequence import pad_sequences   ### pad_sequence is helps to make the sentences in the same length\n",
    "from tensorflow.keras.models import Sequential"
   ]
  },
  {
   "cell_type": "code",
   "execution_count": 31,
   "id": "1425d6d1",
   "metadata": {},
   "outputs": [],
   "source": [
    "import numpy as np"
   ]
  },
  {
   "cell_type": "code",
   "execution_count": 32,
   "id": "5134d41f",
   "metadata": {},
   "outputs": [
    {
     "name": "stdout",
     "output_type": "stream",
     "text": [
      "[[   0    0    0    0 9499 6526 7681 9648]\n",
      " [   0    0    0    0 9499 6526 7681 9883]\n",
      " [   0    0    0    0 9499 3651 7681 2738]\n",
      " [   0    0    0 9111 8944 2167 1209 4980]\n",
      " [   0    0    0 9111 8944 2167 1209 1114]\n",
      " [   0    0    0 7952 9499 3754 7681 6490]\n",
      " [   0    0    0    0 1604 3696 6464 1209]]\n"
     ]
    }
   ],
   "source": [
    "sent_length=8\n",
    "embedded_docs=pad_sequences(onehot_repr,padding='pre',maxlen=sent_length)   # pre means if the sent_length is less than 8 at the begining it will add zeros to make length to 8\n",
    "print(embedded_docs)"
   ]
  },
  {
   "cell_type": "code",
   "execution_count": 33,
   "id": "05f96946",
   "metadata": {},
   "outputs": [],
   "source": [
    "dim=10\n"
   ]
  },
  {
   "cell_type": "code",
   "execution_count": 34,
   "id": "ba4aae1b",
   "metadata": {},
   "outputs": [
    {
     "name": "stderr",
     "output_type": "stream",
     "text": [
      "c:\\Users\\chand\\anaconda3\\envs\\agenticaienv\\Lib\\site-packages\\keras\\src\\layers\\core\\embedding.py:97: UserWarning: Argument `input_length` is deprecated. Just remove it.\n",
      "  warnings.warn(\n"
     ]
    }
   ],
   "source": [
    "model=Sequential()\n",
    "model.add(Embedding(voc_size,10,input_length=sent_length))\n",
    "model.compile('adam','mse')"
   ]
  },
  {
   "cell_type": "code",
   "execution_count": 35,
   "id": "1b116fa7",
   "metadata": {},
   "outputs": [
    {
     "data": {
      "text/html": [
       "<pre style=\"white-space:pre;overflow-x:auto;line-height:normal;font-family:Menlo,'DejaVu Sans Mono',consolas,'Courier New',monospace\"><span style=\"font-weight: bold\">Model: \"sequential\"</span>\n",
       "</pre>\n"
      ],
      "text/plain": [
       "\u001b[1mModel: \"sequential\"\u001b[0m\n"
      ]
     },
     "metadata": {},
     "output_type": "display_data"
    },
    {
     "data": {
      "text/html": [
       "<pre style=\"white-space:pre;overflow-x:auto;line-height:normal;font-family:Menlo,'DejaVu Sans Mono',consolas,'Courier New',monospace\">┏━━━━━━━━━━━━━━━━━━━━━━━━━━━━━━━━━┳━━━━━━━━━━━━━━━━━━━━━━━━┳━━━━━━━━━━━━━━━┓\n",
       "┃<span style=\"font-weight: bold\"> Layer (type)                    </span>┃<span style=\"font-weight: bold\"> Output Shape           </span>┃<span style=\"font-weight: bold\">       Param # </span>┃\n",
       "┡━━━━━━━━━━━━━━━━━━━━━━━━━━━━━━━━━╇━━━━━━━━━━━━━━━━━━━━━━━━╇━━━━━━━━━━━━━━━┩\n",
       "│ embedding (<span style=\"color: #0087ff; text-decoration-color: #0087ff\">Embedding</span>)           │ ?                      │   <span style=\"color: #00af00; text-decoration-color: #00af00\">0</span> (unbuilt) │\n",
       "└─────────────────────────────────┴────────────────────────┴───────────────┘\n",
       "</pre>\n"
      ],
      "text/plain": [
       "┏━━━━━━━━━━━━━━━━━━━━━━━━━━━━━━━━━┳━━━━━━━━━━━━━━━━━━━━━━━━┳━━━━━━━━━━━━━━━┓\n",
       "┃\u001b[1m \u001b[0m\u001b[1mLayer (type)                   \u001b[0m\u001b[1m \u001b[0m┃\u001b[1m \u001b[0m\u001b[1mOutput Shape          \u001b[0m\u001b[1m \u001b[0m┃\u001b[1m \u001b[0m\u001b[1m      Param #\u001b[0m\u001b[1m \u001b[0m┃\n",
       "┡━━━━━━━━━━━━━━━━━━━━━━━━━━━━━━━━━╇━━━━━━━━━━━━━━━━━━━━━━━━╇━━━━━━━━━━━━━━━┩\n",
       "│ embedding (\u001b[38;5;33mEmbedding\u001b[0m)           │ ?                      │   \u001b[38;5;34m0\u001b[0m (unbuilt) │\n",
       "└─────────────────────────────────┴────────────────────────┴───────────────┘\n"
      ]
     },
     "metadata": {},
     "output_type": "display_data"
    },
    {
     "data": {
      "text/html": [
       "<pre style=\"white-space:pre;overflow-x:auto;line-height:normal;font-family:Menlo,'DejaVu Sans Mono',consolas,'Courier New',monospace\"><span style=\"font-weight: bold\"> Total params: </span><span style=\"color: #00af00; text-decoration-color: #00af00\">0</span> (0.00 B)\n",
       "</pre>\n"
      ],
      "text/plain": [
       "\u001b[1m Total params: \u001b[0m\u001b[38;5;34m0\u001b[0m (0.00 B)\n"
      ]
     },
     "metadata": {},
     "output_type": "display_data"
    },
    {
     "data": {
      "text/html": [
       "<pre style=\"white-space:pre;overflow-x:auto;line-height:normal;font-family:Menlo,'DejaVu Sans Mono',consolas,'Courier New',monospace\"><span style=\"font-weight: bold\"> Trainable params: </span><span style=\"color: #00af00; text-decoration-color: #00af00\">0</span> (0.00 B)\n",
       "</pre>\n"
      ],
      "text/plain": [
       "\u001b[1m Trainable params: \u001b[0m\u001b[38;5;34m0\u001b[0m (0.00 B)\n"
      ]
     },
     "metadata": {},
     "output_type": "display_data"
    },
    {
     "data": {
      "text/html": [
       "<pre style=\"white-space:pre;overflow-x:auto;line-height:normal;font-family:Menlo,'DejaVu Sans Mono',consolas,'Courier New',monospace\"><span style=\"font-weight: bold\"> Non-trainable params: </span><span style=\"color: #00af00; text-decoration-color: #00af00\">0</span> (0.00 B)\n",
       "</pre>\n"
      ],
      "text/plain": [
       "\u001b[1m Non-trainable params: \u001b[0m\u001b[38;5;34m0\u001b[0m (0.00 B)\n"
      ]
     },
     "metadata": {},
     "output_type": "display_data"
    }
   ],
   "source": [
    "model.summary()"
   ]
  },
  {
   "cell_type": "code",
   "execution_count": 36,
   "id": "0b96261e",
   "metadata": {},
   "outputs": [
    {
     "name": "stdout",
     "output_type": "stream",
     "text": [
      "\u001b[1m1/1\u001b[0m \u001b[32m━━━━━━━━━━━━━━━━━━━━\u001b[0m\u001b[37m\u001b[0m \u001b[1m0s\u001b[0m 108ms/step\n",
      "[[[ 1.4113676e-02 -2.0687116e-02  8.9847334e-03  3.4140501e-02\n",
      "    3.1552557e-02 -8.3116405e-03 -3.4494221e-02  6.3979737e-03\n",
      "   -2.1842290e-02 -2.9660333e-02]\n",
      "  [ 1.4113676e-02 -2.0687116e-02  8.9847334e-03  3.4140501e-02\n",
      "    3.1552557e-02 -8.3116405e-03 -3.4494221e-02  6.3979737e-03\n",
      "   -2.1842290e-02 -2.9660333e-02]\n",
      "  [ 1.4113676e-02 -2.0687116e-02  8.9847334e-03  3.4140501e-02\n",
      "    3.1552557e-02 -8.3116405e-03 -3.4494221e-02  6.3979737e-03\n",
      "   -2.1842290e-02 -2.9660333e-02]\n",
      "  [ 1.4113676e-02 -2.0687116e-02  8.9847334e-03  3.4140501e-02\n",
      "    3.1552557e-02 -8.3116405e-03 -3.4494221e-02  6.3979737e-03\n",
      "   -2.1842290e-02 -2.9660333e-02]\n",
      "  [ 4.3204203e-03 -3.7728667e-02  2.1580543e-02 -2.1478271e-02\n",
      "   -1.8456735e-02 -3.6473013e-02 -2.2550656e-02  1.4367912e-02\n",
      "    4.4218052e-02  3.1032078e-03]\n",
      "  [-6.0575828e-03  3.6007762e-03 -4.7282945e-02 -3.8094223e-02\n",
      "    4.0959742e-02  2.7068149e-02  1.0177027e-02 -3.9934706e-02\n",
      "   -4.4696737e-02 -1.3439834e-02]\n",
      "  [ 4.2039644e-02  1.5155446e-02 -9.9085569e-03  8.2170144e-03\n",
      "    2.7718868e-02  4.4907462e-02  2.6635919e-02 -1.1019349e-02\n",
      "    4.7291890e-03  3.9007191e-02]\n",
      "  [ 3.3167850e-02 -4.6683680e-02 -4.1842900e-02 -2.5343752e-02\n",
      "   -1.0477472e-02  2.9487763e-02  3.8381848e-02 -2.0718090e-03\n",
      "   -4.9029257e-02 -4.3017149e-02]]\n",
      "\n",
      " [[ 1.4113676e-02 -2.0687116e-02  8.9847334e-03  3.4140501e-02\n",
      "    3.1552557e-02 -8.3116405e-03 -3.4494221e-02  6.3979737e-03\n",
      "   -2.1842290e-02 -2.9660333e-02]\n",
      "  [ 1.4113676e-02 -2.0687116e-02  8.9847334e-03  3.4140501e-02\n",
      "    3.1552557e-02 -8.3116405e-03 -3.4494221e-02  6.3979737e-03\n",
      "   -2.1842290e-02 -2.9660333e-02]\n",
      "  [ 1.4113676e-02 -2.0687116e-02  8.9847334e-03  3.4140501e-02\n",
      "    3.1552557e-02 -8.3116405e-03 -3.4494221e-02  6.3979737e-03\n",
      "   -2.1842290e-02 -2.9660333e-02]\n",
      "  [ 1.4113676e-02 -2.0687116e-02  8.9847334e-03  3.4140501e-02\n",
      "    3.1552557e-02 -8.3116405e-03 -3.4494221e-02  6.3979737e-03\n",
      "   -2.1842290e-02 -2.9660333e-02]\n",
      "  [ 4.3204203e-03 -3.7728667e-02  2.1580543e-02 -2.1478271e-02\n",
      "   -1.8456735e-02 -3.6473013e-02 -2.2550656e-02  1.4367912e-02\n",
      "    4.4218052e-02  3.1032078e-03]\n",
      "  [-6.0575828e-03  3.6007762e-03 -4.7282945e-02 -3.8094223e-02\n",
      "    4.0959742e-02  2.7068149e-02  1.0177027e-02 -3.9934706e-02\n",
      "   -4.4696737e-02 -1.3439834e-02]\n",
      "  [ 4.2039644e-02  1.5155446e-02 -9.9085569e-03  8.2170144e-03\n",
      "    2.7718868e-02  4.4907462e-02  2.6635919e-02 -1.1019349e-02\n",
      "    4.7291890e-03  3.9007191e-02]\n",
      "  [ 3.4548525e-02 -1.6086638e-02  3.3401027e-03 -4.8627865e-02\n",
      "   -1.2295913e-02  2.0316292e-02 -3.5718787e-02 -1.0924768e-02\n",
      "    4.6787117e-02  1.8635020e-03]]\n",
      "\n",
      " [[ 1.4113676e-02 -2.0687116e-02  8.9847334e-03  3.4140501e-02\n",
      "    3.1552557e-02 -8.3116405e-03 -3.4494221e-02  6.3979737e-03\n",
      "   -2.1842290e-02 -2.9660333e-02]\n",
      "  [ 1.4113676e-02 -2.0687116e-02  8.9847334e-03  3.4140501e-02\n",
      "    3.1552557e-02 -8.3116405e-03 -3.4494221e-02  6.3979737e-03\n",
      "   -2.1842290e-02 -2.9660333e-02]\n",
      "  [ 1.4113676e-02 -2.0687116e-02  8.9847334e-03  3.4140501e-02\n",
      "    3.1552557e-02 -8.3116405e-03 -3.4494221e-02  6.3979737e-03\n",
      "   -2.1842290e-02 -2.9660333e-02]\n",
      "  [ 1.4113676e-02 -2.0687116e-02  8.9847334e-03  3.4140501e-02\n",
      "    3.1552557e-02 -8.3116405e-03 -3.4494221e-02  6.3979737e-03\n",
      "   -2.1842290e-02 -2.9660333e-02]\n",
      "  [ 4.3204203e-03 -3.7728667e-02  2.1580543e-02 -2.1478271e-02\n",
      "   -1.8456735e-02 -3.6473013e-02 -2.2550656e-02  1.4367912e-02\n",
      "    4.4218052e-02  3.1032078e-03]\n",
      "  [ 1.3561819e-02  4.0411580e-02 -1.5709624e-03  2.2647191e-02\n",
      "   -4.6936035e-02 -1.3391599e-03 -2.2237504e-02  1.7750036e-02\n",
      "   -4.5437701e-03 -1.6639303e-02]\n",
      "  [ 4.2039644e-02  1.5155446e-02 -9.9085569e-03  8.2170144e-03\n",
      "    2.7718868e-02  4.4907462e-02  2.6635919e-02 -1.1019349e-02\n",
      "    4.7291890e-03  3.9007191e-02]\n",
      "  [-1.8809129e-02  7.0758574e-03 -2.2744894e-02 -3.4899354e-02\n",
      "    1.4879394e-02  1.7522719e-02 -4.3939270e-02  1.1269450e-03\n",
      "    2.7166221e-02  3.9914623e-03]]\n",
      "\n",
      " [[ 1.4113676e-02 -2.0687116e-02  8.9847334e-03  3.4140501e-02\n",
      "    3.1552557e-02 -8.3116405e-03 -3.4494221e-02  6.3979737e-03\n",
      "   -2.1842290e-02 -2.9660333e-02]\n",
      "  [ 1.4113676e-02 -2.0687116e-02  8.9847334e-03  3.4140501e-02\n",
      "    3.1552557e-02 -8.3116405e-03 -3.4494221e-02  6.3979737e-03\n",
      "   -2.1842290e-02 -2.9660333e-02]\n",
      "  [ 1.4113676e-02 -2.0687116e-02  8.9847334e-03  3.4140501e-02\n",
      "    3.1552557e-02 -8.3116405e-03 -3.4494221e-02  6.3979737e-03\n",
      "   -2.1842290e-02 -2.9660333e-02]\n",
      "  [ 2.6036743e-02  2.2164512e-02 -3.2017637e-02  6.3430518e-05\n",
      "    4.3260109e-02  2.3074280e-02 -1.2734175e-02 -2.6312901e-02\n",
      "   -3.1602383e-04 -9.1211870e-04]\n",
      "  [ 3.8753781e-02 -3.6678303e-02 -2.4934102e-02 -6.1861277e-03\n",
      "   -9.6092708e-03 -7.0980564e-03  5.3219087e-03 -1.7972242e-02\n",
      "   -3.0625511e-02 -3.8312186e-02]\n",
      "  [ 2.5792327e-02 -1.7292261e-02 -3.1498089e-02 -3.5601281e-02\n",
      "   -4.4186451e-02  1.7460100e-03  1.8569421e-02 -3.5998821e-02\n",
      "   -3.7772141e-02 -4.9348842e-02]\n",
      "  [-1.1100687e-02  2.8040413e-02 -4.0093053e-02  4.8405353e-02\n",
      "    4.3382052e-02  2.9314186e-02 -2.8433288e-02  1.3788376e-02\n",
      "   -2.6965415e-02  1.9248713e-02]\n",
      "  [-6.6497438e-03  4.5440737e-02  3.3616494e-02 -3.1493209e-02\n",
      "    3.2874357e-02  4.6314444e-02 -1.6932953e-02  8.2450733e-03\n",
      "   -1.6651072e-02  4.8515487e-02]]\n",
      "\n",
      " [[ 1.4113676e-02 -2.0687116e-02  8.9847334e-03  3.4140501e-02\n",
      "    3.1552557e-02 -8.3116405e-03 -3.4494221e-02  6.3979737e-03\n",
      "   -2.1842290e-02 -2.9660333e-02]\n",
      "  [ 1.4113676e-02 -2.0687116e-02  8.9847334e-03  3.4140501e-02\n",
      "    3.1552557e-02 -8.3116405e-03 -3.4494221e-02  6.3979737e-03\n",
      "   -2.1842290e-02 -2.9660333e-02]\n",
      "  [ 1.4113676e-02 -2.0687116e-02  8.9847334e-03  3.4140501e-02\n",
      "    3.1552557e-02 -8.3116405e-03 -3.4494221e-02  6.3979737e-03\n",
      "   -2.1842290e-02 -2.9660333e-02]\n",
      "  [ 2.6036743e-02  2.2164512e-02 -3.2017637e-02  6.3430518e-05\n",
      "    4.3260109e-02  2.3074280e-02 -1.2734175e-02 -2.6312901e-02\n",
      "   -3.1602383e-04 -9.1211870e-04]\n",
      "  [ 3.8753781e-02 -3.6678303e-02 -2.4934102e-02 -6.1861277e-03\n",
      "   -9.6092708e-03 -7.0980564e-03  5.3219087e-03 -1.7972242e-02\n",
      "   -3.0625511e-02 -3.8312186e-02]\n",
      "  [ 2.5792327e-02 -1.7292261e-02 -3.1498089e-02 -3.5601281e-02\n",
      "   -4.4186451e-02  1.7460100e-03  1.8569421e-02 -3.5998821e-02\n",
      "   -3.7772141e-02 -4.9348842e-02]\n",
      "  [-1.1100687e-02  2.8040413e-02 -4.0093053e-02  4.8405353e-02\n",
      "    4.3382052e-02  2.9314186e-02 -2.8433288e-02  1.3788376e-02\n",
      "   -2.6965415e-02  1.9248713e-02]\n",
      "  [-1.1486866e-02 -2.5239158e-02  8.3264112e-03 -3.0758107e-02\n",
      "   -3.0667782e-02  1.9838836e-02  2.3324143e-02  4.2625990e-02\n",
      "    2.3049880e-02  4.2312291e-02]]\n",
      "\n",
      " [[ 1.4113676e-02 -2.0687116e-02  8.9847334e-03  3.4140501e-02\n",
      "    3.1552557e-02 -8.3116405e-03 -3.4494221e-02  6.3979737e-03\n",
      "   -2.1842290e-02 -2.9660333e-02]\n",
      "  [ 1.4113676e-02 -2.0687116e-02  8.9847334e-03  3.4140501e-02\n",
      "    3.1552557e-02 -8.3116405e-03 -3.4494221e-02  6.3979737e-03\n",
      "   -2.1842290e-02 -2.9660333e-02]\n",
      "  [ 1.4113676e-02 -2.0687116e-02  8.9847334e-03  3.4140501e-02\n",
      "    3.1552557e-02 -8.3116405e-03 -3.4494221e-02  6.3979737e-03\n",
      "   -2.1842290e-02 -2.9660333e-02]\n",
      "  [-3.5572074e-02  3.2746959e-02 -8.1373230e-03  4.1354064e-02\n",
      "    4.7207687e-02 -2.1142518e-02  4.5043435e-02 -4.1887276e-03\n",
      "   -1.5810180e-02 -4.1829634e-02]\n",
      "  [ 4.3204203e-03 -3.7728667e-02  2.1580543e-02 -2.1478271e-02\n",
      "   -1.8456735e-02 -3.6473013e-02 -2.2550656e-02  1.4367912e-02\n",
      "    4.4218052e-02  3.1032078e-03]\n",
      "  [-3.7637066e-02 -4.2242754e-02 -1.0221254e-02  3.9453283e-03\n",
      "    2.6806917e-02 -9.5566623e-03  1.2425639e-02 -2.2278417e-02\n",
      "   -4.5055296e-02  7.5106733e-03]\n",
      "  [ 4.2039644e-02  1.5155446e-02 -9.9085569e-03  8.2170144e-03\n",
      "    2.7718868e-02  4.4907462e-02  2.6635919e-02 -1.1019349e-02\n",
      "    4.7291890e-03  3.9007191e-02]\n",
      "  [ 3.2185603e-02 -4.9704850e-02  2.5162410e-02  2.1946456e-02\n",
      "   -4.1790463e-02 -3.6035977e-02  2.3975145e-02 -3.0796541e-02\n",
      "   -3.0262029e-02 -6.5980777e-03]]\n",
      "\n",
      " [[ 1.4113676e-02 -2.0687116e-02  8.9847334e-03  3.4140501e-02\n",
      "    3.1552557e-02 -8.3116405e-03 -3.4494221e-02  6.3979737e-03\n",
      "   -2.1842290e-02 -2.9660333e-02]\n",
      "  [ 1.4113676e-02 -2.0687116e-02  8.9847334e-03  3.4140501e-02\n",
      "    3.1552557e-02 -8.3116405e-03 -3.4494221e-02  6.3979737e-03\n",
      "   -2.1842290e-02 -2.9660333e-02]\n",
      "  [ 1.4113676e-02 -2.0687116e-02  8.9847334e-03  3.4140501e-02\n",
      "    3.1552557e-02 -8.3116405e-03 -3.4494221e-02  6.3979737e-03\n",
      "   -2.1842290e-02 -2.9660333e-02]\n",
      "  [ 1.4113676e-02 -2.0687116e-02  8.9847334e-03  3.4140501e-02\n",
      "    3.1552557e-02 -8.3116405e-03 -3.4494221e-02  6.3979737e-03\n",
      "   -2.1842290e-02 -2.9660333e-02]\n",
      "  [-6.8314299e-03  4.7144938e-02 -3.8873255e-02 -3.8570952e-02\n",
      "   -2.8362060e-02 -3.2527052e-02  7.7428445e-03  2.8064847e-03\n",
      "   -3.8532019e-03 -3.4120310e-02]\n",
      "  [ 2.0302322e-02 -4.3713976e-02 -2.7443517e-02 -1.7030157e-02\n",
      "   -4.7609329e-02  5.6311861e-03 -9.4974414e-03  4.9318265e-02\n",
      "   -2.2900153e-02 -1.0926090e-02]\n",
      "  [ 2.5576327e-02 -6.3755997e-03  2.6450045e-03 -4.3211818e-02\n",
      "   -1.4618576e-02 -2.6098430e-02 -2.6382184e-02  1.3161864e-02\n",
      "   -3.3111349e-03 -2.4484968e-02]\n",
      "  [-1.1100687e-02  2.8040413e-02 -4.0093053e-02  4.8405353e-02\n",
      "    4.3382052e-02  2.9314186e-02 -2.8433288e-02  1.3788376e-02\n",
      "   -2.6965415e-02  1.9248713e-02]]]\n"
     ]
    }
   ],
   "source": [
    "print(model.predict(embedded_docs))"
   ]
  },
  {
   "cell_type": "code",
   "execution_count": 37,
   "id": "c8058465",
   "metadata": {},
   "outputs": [
    {
     "data": {
      "text/plain": [
       "array([   0,    0,    0,    0, 9499, 6526, 7681, 9648])"
      ]
     },
     "execution_count": 37,
     "metadata": {},
     "output_type": "execute_result"
    }
   ],
   "source": [
    "embedded_docs[0]  ## here the first value 0 is converted into vector values of 10 because we given dimensions as 10 so 10 values are created for each and every word"
   ]
  },
  {
   "cell_type": "code",
   "execution_count": 38,
   "id": "a81063b8",
   "metadata": {},
   "outputs": [
    {
     "name": "stdout",
     "output_type": "stream",
     "text": [
      "\u001b[1m1/1\u001b[0m \u001b[32m━━━━━━━━━━━━━━━━━━━━\u001b[0m\u001b[37m\u001b[0m \u001b[1m0s\u001b[0m 32ms/step\n",
      "[[ 0.01411368 -0.02068712  0.00898473  0.0341405   0.03155256 -0.00831164\n",
      "  -0.03449422  0.00639797 -0.02184229 -0.02966033]\n",
      " [ 0.01411368 -0.02068712  0.00898473  0.0341405   0.03155256 -0.00831164\n",
      "  -0.03449422  0.00639797 -0.02184229 -0.02966033]\n",
      " [ 0.01411368 -0.02068712  0.00898473  0.0341405   0.03155256 -0.00831164\n",
      "  -0.03449422  0.00639797 -0.02184229 -0.02966033]\n",
      " [ 0.01411368 -0.02068712  0.00898473  0.0341405   0.03155256 -0.00831164\n",
      "  -0.03449422  0.00639797 -0.02184229 -0.02966033]\n",
      " [ 0.00432042 -0.03772867  0.02158054 -0.02147827 -0.01845673 -0.03647301\n",
      "  -0.02255066  0.01436791  0.04421805  0.00310321]\n",
      " [-0.00605758  0.00360078 -0.04728295 -0.03809422  0.04095974  0.02706815\n",
      "   0.01017703 -0.03993471 -0.04469674 -0.01343983]\n",
      " [ 0.04203964  0.01515545 -0.00990856  0.00821701  0.02771887  0.04490746\n",
      "   0.02663592 -0.01101935  0.00472919  0.03900719]\n",
      " [ 0.03316785 -0.04668368 -0.0418429  -0.02534375 -0.01047747  0.02948776\n",
      "   0.03838185 -0.00207181 -0.04902926 -0.04301715]]\n"
     ]
    }
   ],
   "source": [
    "print(model.predict(embedded_docs)[0])"
   ]
  },
  {
   "cell_type": "code",
   "execution_count": null,
   "id": "b64564d6",
   "metadata": {},
   "outputs": [],
   "source": []
  },
  {
   "cell_type": "code",
   "execution_count": null,
   "id": "37025bd3",
   "metadata": {},
   "outputs": [],
   "source": []
  },
  {
   "cell_type": "code",
   "execution_count": null,
   "id": "4af816d7",
   "metadata": {},
   "outputs": [],
   "source": []
  },
  {
   "cell_type": "code",
   "execution_count": 1,
   "id": "b56ad93c",
   "metadata": {},
   "outputs": [],
   "source": [
    "import pandas as pd"
   ]
  },
  {
   "cell_type": "code",
   "execution_count": 2,
   "id": "77740eff",
   "metadata": {},
   "outputs": [],
   "source": [
    "data=pd.DataFrame({\"text\":[\"people watch cricket\",\"cricket watch cricket\",\"people give comment\",\"cricket give comment\"],\"output\":[1,1,0,0]})"
   ]
  },
  {
   "cell_type": "code",
   "execution_count": 3,
   "id": "5f509b0b",
   "metadata": {},
   "outputs": [
    {
     "data": {
      "text/html": [
       "<div>\n",
       "<style scoped>\n",
       "    .dataframe tbody tr th:only-of-type {\n",
       "        vertical-align: middle;\n",
       "    }\n",
       "\n",
       "    .dataframe tbody tr th {\n",
       "        vertical-align: top;\n",
       "    }\n",
       "\n",
       "    .dataframe thead th {\n",
       "        text-align: right;\n",
       "    }\n",
       "</style>\n",
       "<table border=\"1\" class=\"dataframe\">\n",
       "  <thead>\n",
       "    <tr style=\"text-align: right;\">\n",
       "      <th></th>\n",
       "      <th>text</th>\n",
       "      <th>output</th>\n",
       "    </tr>\n",
       "  </thead>\n",
       "  <tbody>\n",
       "    <tr>\n",
       "      <th>0</th>\n",
       "      <td>people watch cricket</td>\n",
       "      <td>1</td>\n",
       "    </tr>\n",
       "    <tr>\n",
       "      <th>1</th>\n",
       "      <td>cricket watch cricket</td>\n",
       "      <td>1</td>\n",
       "    </tr>\n",
       "    <tr>\n",
       "      <th>2</th>\n",
       "      <td>people give comment</td>\n",
       "      <td>0</td>\n",
       "    </tr>\n",
       "    <tr>\n",
       "      <th>3</th>\n",
       "      <td>cricket give comment</td>\n",
       "      <td>0</td>\n",
       "    </tr>\n",
       "  </tbody>\n",
       "</table>\n",
       "</div>"
      ],
      "text/plain": [
       "                    text  output\n",
       "0   people watch cricket       1\n",
       "1  cricket watch cricket       1\n",
       "2    people give comment       0\n",
       "3   cricket give comment       0"
      ]
     },
     "execution_count": 3,
     "metadata": {},
     "output_type": "execute_result"
    }
   ],
   "source": [
    "data"
   ]
  },
  {
   "cell_type": "code",
   "execution_count": 4,
   "id": "3641dec1",
   "metadata": {},
   "outputs": [],
   "source": [
    "from sklearn.feature_extraction.text import CountVectorizer"
   ]
  },
  {
   "cell_type": "code",
   "execution_count": 5,
   "id": "43944c7f",
   "metadata": {},
   "outputs": [],
   "source": [
    "BOW=CountVectorizer()"
   ]
  },
  {
   "cell_type": "code",
   "execution_count": 6,
   "id": "a282bfc0",
   "metadata": {},
   "outputs": [
    {
     "data": {
      "text/plain": [
       "0     people watch cricket\n",
       "1    cricket watch cricket\n",
       "2      people give comment\n",
       "3     cricket give comment\n",
       "Name: text, dtype: object"
      ]
     },
     "execution_count": 6,
     "metadata": {},
     "output_type": "execute_result"
    }
   ],
   "source": [
    "data[\"text\"]"
   ]
  },
  {
   "cell_type": "code",
   "execution_count": 7,
   "id": "20cd7b49",
   "metadata": {},
   "outputs": [],
   "source": [
    "document_matrix=BOW.fit_transform(data[\"text\"])"
   ]
  },
  {
   "cell_type": "code",
   "execution_count": 8,
   "id": "48a38b1e",
   "metadata": {},
   "outputs": [
    {
     "data": {
      "text/plain": [
       "<4x5 sparse matrix of type '<class 'numpy.int64'>'\n",
       "\twith 11 stored elements in Compressed Sparse Row format>"
      ]
     },
     "execution_count": 8,
     "metadata": {},
     "output_type": "execute_result"
    }
   ],
   "source": [
    "document_matrix"
   ]
  },
  {
   "cell_type": "markdown",
   "id": "d7064f85",
   "metadata": {},
   "source": [
    "### Alphabatical sequence"
   ]
  },
  {
   "cell_type": "code",
   "execution_count": 9,
   "id": "341ad665",
   "metadata": {},
   "outputs": [
    {
     "data": {
      "text/plain": [
       "{'people': 3, 'watch': 4, 'cricket': 1, 'give': 2, 'comment': 0}"
      ]
     },
     "execution_count": 9,
     "metadata": {},
     "output_type": "execute_result"
    }
   ],
   "source": [
    "BOW.vocabulary_"
   ]
  },
  {
   "cell_type": "code",
   "execution_count": 10,
   "id": "1544903c",
   "metadata": {},
   "outputs": [
    {
     "data": {
      "text/plain": [
       "array([[0, 1, 0, 1, 1]], dtype=int64)"
      ]
     },
     "execution_count": 10,
     "metadata": {},
     "output_type": "execute_result"
    }
   ],
   "source": [
    "document_matrix[0].toarray()"
   ]
  },
  {
   "cell_type": "code",
   "execution_count": 11,
   "id": "91f661ca",
   "metadata": {},
   "outputs": [
    {
     "data": {
      "text/plain": [
       "array([[0, 2, 0, 0, 1]], dtype=int64)"
      ]
     },
     "execution_count": 11,
     "metadata": {},
     "output_type": "execute_result"
    }
   ],
   "source": [
    "document_matrix[1].toarray()"
   ]
  },
  {
   "cell_type": "code",
   "execution_count": 12,
   "id": "d95a6dd9",
   "metadata": {},
   "outputs": [
    {
     "data": {
      "text/plain": [
       "array([[1, 0, 1, 1, 0]], dtype=int64)"
      ]
     },
     "execution_count": 12,
     "metadata": {},
     "output_type": "execute_result"
    }
   ],
   "source": [
    "document_matrix[2].toarray()"
   ]
  },
  {
   "cell_type": "code",
   "execution_count": 13,
   "id": "b7ea00b5",
   "metadata": {},
   "outputs": [],
   "source": [
    "from sklearn.feature_extraction.text import CountVectorizer"
   ]
  },
  {
   "cell_type": "code",
   "execution_count": 14,
   "id": "5f1ebef6",
   "metadata": {},
   "outputs": [],
   "source": [
    "bigram=CountVectorizer(ngram_range=(2,2))"
   ]
  },
  {
   "cell_type": "code",
   "execution_count": 15,
   "id": "50703eb7",
   "metadata": {},
   "outputs": [],
   "source": [
    "bigramvocab=bigram.fit_transform(data[\"text\"])"
   ]
  },
  {
   "cell_type": "code",
   "execution_count": 16,
   "id": "4d7fb070",
   "metadata": {},
   "outputs": [
    {
     "data": {
      "text/plain": [
       "0     people watch cricket\n",
       "1    cricket watch cricket\n",
       "2      people give comment\n",
       "3     cricket give comment\n",
       "Name: text, dtype: object"
      ]
     },
     "execution_count": 16,
     "metadata": {},
     "output_type": "execute_result"
    }
   ],
   "source": [
    "data[\"text\"]"
   ]
  },
  {
   "cell_type": "code",
   "execution_count": 17,
   "id": "44df3e24",
   "metadata": {},
   "outputs": [
    {
     "data": {
      "text/plain": [
       "{'people watch': 4,\n",
       " 'watch cricket': 5,\n",
       " 'cricket watch': 1,\n",
       " 'people give': 3,\n",
       " 'give comment': 2,\n",
       " 'cricket give': 0}"
      ]
     },
     "execution_count": 17,
     "metadata": {},
     "output_type": "execute_result"
    }
   ],
   "source": [
    "bigram.vocabulary_"
   ]
  },
  {
   "cell_type": "code",
   "execution_count": 18,
   "id": "a9c7ddd8",
   "metadata": {},
   "outputs": [],
   "source": [
    "trigram=CountVectorizer(ngram_range=(3,3))"
   ]
  },
  {
   "cell_type": "code",
   "execution_count": 19,
   "id": "e5945e7b",
   "metadata": {},
   "outputs": [],
   "source": [
    "trigramvocab=trigram.fit_transform(data[\"text\"])"
   ]
  },
  {
   "cell_type": "code",
   "execution_count": 20,
   "id": "6297f6d0",
   "metadata": {},
   "outputs": [
    {
     "data": {
      "text/plain": [
       "{'people watch cricket': 3,\n",
       " 'cricket watch cricket': 1,\n",
       " 'people give comment': 2,\n",
       " 'cricket give comment': 0}"
      ]
     },
     "execution_count": 20,
     "metadata": {},
     "output_type": "execute_result"
    }
   ],
   "source": [
    "trigram.vocabulary_"
   ]
  },
  {
   "cell_type": "code",
   "execution_count": 21,
   "id": "8044246a",
   "metadata": {},
   "outputs": [],
   "source": [
    "mix=CountVectorizer(ngram_range=(1,3))"
   ]
  },
  {
   "cell_type": "code",
   "execution_count": 22,
   "id": "bec0cabd",
   "metadata": {},
   "outputs": [],
   "source": [
    "mix_vocab=mix.fit_transform(data[\"text\"])"
   ]
  },
  {
   "cell_type": "code",
   "execution_count": 23,
   "id": "88047107",
   "metadata": {},
   "outputs": [
    {
     "data": {
      "text/plain": [
       "{'people': 8,\n",
       " 'watch': 13,\n",
       " 'cricket': 1,\n",
       " 'people watch': 11,\n",
       " 'watch cricket': 14,\n",
       " 'people watch cricket': 12,\n",
       " 'cricket watch': 4,\n",
       " 'cricket watch cricket': 5,\n",
       " 'give': 6,\n",
       " 'comment': 0,\n",
       " 'people give': 9,\n",
       " 'give comment': 7,\n",
       " 'people give comment': 10,\n",
       " 'cricket give': 2,\n",
       " 'cricket give comment': 3}"
      ]
     },
     "execution_count": 23,
     "metadata": {},
     "output_type": "execute_result"
    }
   ],
   "source": [
    "mix.vocabulary_"
   ]
  }
 ],
 "metadata": {
  "kernelspec": {
   "display_name": "agenticaienv",
   "language": "python",
   "name": "python3"
  },
  "language_info": {
   "codemirror_mode": {
    "name": "ipython",
    "version": 3
   },
   "file_extension": ".py",
   "mimetype": "text/x-python",
   "name": "python",
   "nbconvert_exporter": "python",
   "pygments_lexer": "ipython3",
   "version": "3.11.13"
  }
 },
 "nbformat": 4,
 "nbformat_minor": 5
}
