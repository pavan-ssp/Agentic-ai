{
 "cells": [
  {
   "cell_type": "markdown",
   "id": "78eef96e",
   "metadata": {},
   "source": [
    "# List : \n",
    "List is a collection which is ordered and changable . It allows duplicate members\n",
    "\n",
    "# Tuple :\n",
    "Tuple is a collection which is ordered and unchangable . It aloows duplicate members\n",
    "\n",
    "# Set :\n",
    "Set is a collection which is unordered and unindexed . No duplicate members allowed . While creating we can give duplicate members .\n",
    "\n",
    "# Dictionary :\n",
    "Dictionary is a collection which is ordered and changeable"
   ]
  },
  {
   "cell_type": "markdown",
   "id": "35183649",
   "metadata": {},
   "source": [
    "# STRING"
   ]
  },
  {
   "cell_type": "code",
   "execution_count": 1,
   "id": "fb7b5589",
   "metadata": {},
   "outputs": [],
   "source": [
    "string='Python'"
   ]
  },
  {
   "cell_type": "code",
   "execution_count": 2,
   "id": "73a52619",
   "metadata": {},
   "outputs": [
    {
     "name": "stdout",
     "output_type": "stream",
     "text": [
      "Python\n"
     ]
    },
    {
     "data": {
      "text/plain": [
       "'Python'"
      ]
     },
     "execution_count": 2,
     "metadata": {},
     "output_type": "execute_result"
    }
   ],
   "source": [
    "print(string)\n",
    "\n",
    "string"
   ]
  },
  {
   "cell_type": "code",
   "execution_count": 3,
   "id": "838bb959",
   "metadata": {},
   "outputs": [
    {
     "name": "stdout",
     "output_type": "stream",
     "text": [
      "regression\n"
     ]
    }
   ],
   "source": [
    "algorithm='regression'\n",
    "print(algorithm)"
   ]
  },
  {
   "cell_type": "code",
   "execution_count": 4,
   "id": "5bd916f2",
   "metadata": {},
   "outputs": [
    {
     "data": {
      "text/plain": [
       "10"
      ]
     },
     "execution_count": 4,
     "metadata": {},
     "output_type": "execute_result"
    }
   ],
   "source": [
    "len(algorithm)  ## It counts Including Spaces and punctuation "
   ]
  },
  {
   "cell_type": "markdown",
   "id": "e08d5888",
   "metadata": {},
   "source": [
    "## Python String Indexing [it counts starts from 0]"
   ]
  },
  {
   "cell_type": "code",
   "execution_count": 5,
   "id": "bf37601d",
   "metadata": {},
   "outputs": [],
   "source": [
    "string1=\"principal component analysis\""
   ]
  },
  {
   "cell_type": "code",
   "execution_count": 6,
   "id": "7ba62ad1",
   "metadata": {},
   "outputs": [
    {
     "data": {
      "text/plain": [
       "'p'"
      ]
     },
     "execution_count": 6,
     "metadata": {},
     "output_type": "execute_result"
    }
   ],
   "source": [
    "string1[0]"
   ]
  },
  {
   "cell_type": "code",
   "execution_count": 7,
   "id": "04e10278",
   "metadata": {},
   "outputs": [
    {
     "data": {
      "text/plain": [
       "'s'"
      ]
     },
     "execution_count": 7,
     "metadata": {},
     "output_type": "execute_result"
    }
   ],
   "source": [
    "string1[-1]"
   ]
  },
  {
   "cell_type": "code",
   "execution_count": 8,
   "id": "8a0b0406",
   "metadata": {},
   "outputs": [
    {
     "data": {
      "text/plain": [
       "' '"
      ]
     },
     "execution_count": 8,
     "metadata": {},
     "output_type": "execute_result"
    }
   ],
   "source": [
    "string1[9]"
   ]
  },
  {
   "cell_type": "code",
   "execution_count": 9,
   "id": "28d6323b",
   "metadata": {},
   "outputs": [
    {
     "data": {
      "text/plain": [
       "'rincipal '"
      ]
     },
     "execution_count": 9,
     "metadata": {},
     "output_type": "execute_result"
    }
   ],
   "source": [
    "string1[1:10]"
   ]
  },
  {
   "cell_type": "code",
   "execution_count": 10,
   "id": "a9456e60",
   "metadata": {},
   "outputs": [
    {
     "data": {
      "text/plain": [
       "'principal component analysis'"
      ]
     },
     "execution_count": 10,
     "metadata": {},
     "output_type": "execute_result"
    }
   ],
   "source": [
    "string1[:]"
   ]
  },
  {
   "cell_type": "code",
   "execution_count": 11,
   "id": "4915741f",
   "metadata": {},
   "outputs": [
    {
     "data": {
      "text/plain": [
       "'principal component analysis'"
      ]
     },
     "execution_count": 11,
     "metadata": {},
     "output_type": "execute_result"
    }
   ],
   "source": [
    "string1[::]"
   ]
  },
  {
   "cell_type": "code",
   "execution_count": 12,
   "id": "4d27ca22",
   "metadata": {},
   "outputs": [
    {
     "data": {
      "text/plain": [
       "'picplcmoetaayi'"
      ]
     },
     "execution_count": 12,
     "metadata": {},
     "output_type": "execute_result"
    }
   ],
   "source": [
    "string1[::2]"
   ]
  },
  {
   "cell_type": "code",
   "execution_count": 13,
   "id": "0fceb012",
   "metadata": {},
   "outputs": [
    {
     "data": {
      "text/plain": [
       "'sisylana tnenopmoc lapicnirp'"
      ]
     },
     "execution_count": 13,
     "metadata": {},
     "output_type": "execute_result"
    }
   ],
   "source": [
    "string1[::-1]"
   ]
  },
  {
   "cell_type": "code",
   "execution_count": 14,
   "id": "e77fa6da",
   "metadata": {},
   "outputs": [
    {
     "data": {
      "text/plain": [
       "'icnirp'"
      ]
     },
     "execution_count": 14,
     "metadata": {},
     "output_type": "execute_result"
    }
   ],
   "source": [
    "string1[5::-1]"
   ]
  },
  {
   "cell_type": "code",
   "execution_count": 15,
   "id": "15668e32",
   "metadata": {},
   "outputs": [
    {
     "data": {
      "text/plain": [
       "'icni'"
      ]
     },
     "execution_count": 15,
     "metadata": {},
     "output_type": "execute_result"
    }
   ],
   "source": [
    "string1[5:1:-1]"
   ]
  },
  {
   "cell_type": "code",
   "execution_count": 16,
   "id": "2392e747",
   "metadata": {},
   "outputs": [
    {
     "ename": "TypeError",
     "evalue": "'str' object does not support item assignment",
     "output_type": "error",
     "traceback": [
      "\u001b[31m---------------------------------------------------------------------------\u001b[39m",
      "\u001b[31mTypeError\u001b[39m                                 Traceback (most recent call last)",
      "\u001b[36mCell\u001b[39m\u001b[36m \u001b[39m\u001b[32mIn[16]\u001b[39m\u001b[32m, line 1\u001b[39m\n\u001b[32m----> \u001b[39m\u001b[32m1\u001b[39m \u001b[43mstring1\u001b[49m\u001b[43m[\u001b[49m\u001b[32;43m0\u001b[39;49m\u001b[43m]\u001b[49m=\u001b[33m'\u001b[39m\u001b[33mi\u001b[39m\u001b[33m'\u001b[39m  \u001b[38;5;66;03m##cant be changed\u001b[39;00m\n",
      "\u001b[31mTypeError\u001b[39m: 'str' object does not support item assignment"
     ]
    }
   ],
   "source": [
    "string1[0]='i'  ##cant be changed"
   ]
  },
  {
   "cell_type": "code",
   "execution_count": 17,
   "id": "d4f69c7f",
   "metadata": {},
   "outputs": [],
   "source": [
    "string2= ' is better '"
   ]
  },
  {
   "cell_type": "code",
   "execution_count": 18,
   "id": "b0906e40",
   "metadata": {},
   "outputs": [
    {
     "data": {
      "text/plain": [
       "'principal component analysis is better '"
      ]
     },
     "execution_count": 18,
     "metadata": {},
     "output_type": "execute_result"
    }
   ],
   "source": [
    "string1+string2"
   ]
  },
  {
   "cell_type": "code",
   "execution_count": 19,
   "id": "4118ed15",
   "metadata": {},
   "outputs": [],
   "source": [
    "string3= 4"
   ]
  },
  {
   "cell_type": "code",
   "execution_count": 20,
   "id": "67ca6a85",
   "metadata": {},
   "outputs": [
    {
     "data": {
      "text/plain": [
       "'principal component analysis is better 4'"
      ]
     },
     "execution_count": 20,
     "metadata": {},
     "output_type": "execute_result"
    }
   ],
   "source": [
    "string1+string2+ str(string3)"
   ]
  },
  {
   "cell_type": "code",
   "execution_count": 21,
   "id": "1deeef1f",
   "metadata": {},
   "outputs": [
    {
     "data": {
      "text/plain": [
       "'principal component analysis'"
      ]
     },
     "execution_count": 21,
     "metadata": {},
     "output_type": "execute_result"
    }
   ],
   "source": [
    "string1.strip()  ##  Removes whitespaces front or end of the string"
   ]
  },
  {
   "cell_type": "code",
   "execution_count": 22,
   "id": "998da3ef",
   "metadata": {},
   "outputs": [
    {
     "data": {
      "text/plain": [
       "'PRINCIPAL COMPONENT ANALYSIS'"
      ]
     },
     "execution_count": 22,
     "metadata": {},
     "output_type": "execute_result"
    }
   ],
   "source": [
    "string1.upper()"
   ]
  },
  {
   "cell_type": "code",
   "execution_count": 23,
   "id": "84ac67df",
   "metadata": {},
   "outputs": [
    {
     "data": {
      "text/plain": [
       "'principal component analysis'"
      ]
     },
     "execution_count": 23,
     "metadata": {},
     "output_type": "execute_result"
    }
   ],
   "source": [
    "string1.lower()"
   ]
  },
  {
   "cell_type": "code",
   "execution_count": 24,
   "id": "2fa05200",
   "metadata": {},
   "outputs": [
    {
     "data": {
      "text/plain": [
       "2"
      ]
     },
     "execution_count": 24,
     "metadata": {},
     "output_type": "execute_result"
    }
   ],
   "source": [
    "string1.count('o')"
   ]
  },
  {
   "cell_type": "code",
   "execution_count": 25,
   "id": "7204d31b",
   "metadata": {},
   "outputs": [
    {
     "data": {
      "text/plain": [
       "2"
      ]
     },
     "execution_count": 25,
     "metadata": {},
     "output_type": "execute_result"
    }
   ],
   "source": [
    "string1.count(' ')"
   ]
  },
  {
   "cell_type": "code",
   "execution_count": 26,
   "id": "2fda28f4",
   "metadata": {},
   "outputs": [
    {
     "data": {
      "text/plain": [
       "20"
      ]
     },
     "execution_count": 26,
     "metadata": {},
     "output_type": "execute_result"
    }
   ],
   "source": [
    "string1.find(\"ana\")"
   ]
  },
  {
   "cell_type": "code",
   "execution_count": 27,
   "id": "91c9e276",
   "metadata": {},
   "outputs": [
    {
     "data": {
      "text/plain": [
       "-1"
      ]
     },
     "execution_count": 27,
     "metadata": {},
     "output_type": "execute_result"
    }
   ],
   "source": [
    "string1.find('arg')   ## returns -1 if it not found else return index of the first elemnet"
   ]
  },
  {
   "cell_type": "code",
   "execution_count": 28,
   "id": "b46be004",
   "metadata": {},
   "outputs": [],
   "source": [
    "firstname= ' satya surya pavan '"
   ]
  },
  {
   "cell_type": "code",
   "execution_count": 29,
   "id": "d03a387b",
   "metadata": {},
   "outputs": [],
   "source": [
    "lastname= ' chanduri '"
   ]
  },
  {
   "cell_type": "code",
   "execution_count": 30,
   "id": "37c4a6f8",
   "metadata": {},
   "outputs": [],
   "source": [
    "fullname= f' Full name is {firstname} , {lastname}'"
   ]
  },
  {
   "cell_type": "code",
   "execution_count": 31,
   "id": "0faa10d7",
   "metadata": {},
   "outputs": [
    {
     "data": {
      "text/plain": [
       "' Full name is  satya surya pavan  ,  chanduri '"
      ]
     },
     "execution_count": 31,
     "metadata": {},
     "output_type": "execute_result"
    }
   ],
   "source": [
    "fullname"
   ]
  },
  {
   "cell_type": "code",
   "execution_count": 32,
   "id": "a26b24ba",
   "metadata": {},
   "outputs": [
    {
     "data": {
      "text/plain": [
       "False"
      ]
     },
     "execution_count": 32,
     "metadata": {},
     "output_type": "execute_result"
    }
   ],
   "source": [
    "'kumar' in fullname    ## returns true if exists otherwise false"
   ]
  },
  {
   "cell_type": "code",
   "execution_count": 33,
   "id": "6466c3a2",
   "metadata": {},
   "outputs": [],
   "source": [
    "age=24\n",
    "txt= f' Name is {firstname} , {lastname} and age is {age}'"
   ]
  },
  {
   "cell_type": "code",
   "execution_count": 34,
   "id": "c4b683da",
   "metadata": {},
   "outputs": [
    {
     "data": {
      "text/plain": [
       "' Name is  satya surya pavan  ,  chanduri  and age is 24'"
      ]
     },
     "execution_count": 34,
     "metadata": {},
     "output_type": "execute_result"
    }
   ],
   "source": [
    "txt"
   ]
  },
  {
   "cell_type": "code",
   "execution_count": 35,
   "id": "5b8903f7",
   "metadata": {},
   "outputs": [
    {
     "name": "stdout",
     "output_type": "stream",
     "text": [
      "name is kumar and age is 36\n"
     ]
    }
   ],
   "source": [
    "age=36\n",
    "txt= 'name is kumar and age is {}'\n",
    "print(txt.format(age))"
   ]
  },
  {
   "cell_type": "code",
   "execution_count": 36,
   "id": "754a39a1",
   "metadata": {},
   "outputs": [],
   "source": [
    "p=1\n",
    "q=2\n",
    "r=3"
   ]
  },
  {
   "cell_type": "code",
   "execution_count": 37,
   "id": "62879234",
   "metadata": {},
   "outputs": [
    {
     "name": "stdout",
     "output_type": "stream",
     "text": [
      "i have 1 piece and my brother have 2 peices and my father and mother have 3 pieces\n"
     ]
    }
   ],
   "source": [
    "myorder='i have {} piece and my brother have {} peices and my father and mother have {} pieces'\n",
    "print(myorder.format(p,q,r))"
   ]
  },
  {
   "cell_type": "markdown",
   "id": "413b7ce4",
   "metadata": {},
   "source": [
    "LIST"
   ]
  },
  {
   "cell_type": "markdown",
   "id": "eac4e432",
   "metadata": {},
   "source": [
    "#  python List\n",
    "## List are mutable [can be change]\n",
    "## It is represented as \"[]\"\n",
    "## And the elements are seperated by comma\n",
    "## list can contains any type of values ie: string,int,float,char"
   ]
  },
  {
   "cell_type": "code",
   "execution_count": 38,
   "id": "91e5453d",
   "metadata": {},
   "outputs": [
    {
     "name": "stdout",
     "output_type": "stream",
     "text": [
      "[1, 2, 3, 4, 5]\n"
     ]
    }
   ],
   "source": [
    "my_list=[1,2,3,4,5]\n",
    "print(my_list)"
   ]
  },
  {
   "cell_type": "code",
   "execution_count": 39,
   "id": "7f0d7bee",
   "metadata": {},
   "outputs": [
    {
     "data": {
      "text/plain": [
       "list"
      ]
     },
     "execution_count": 39,
     "metadata": {},
     "output_type": "execute_result"
    }
   ],
   "source": [
    "type(my_list)"
   ]
  },
  {
   "cell_type": "code",
   "execution_count": 40,
   "id": "44b1f235",
   "metadata": {},
   "outputs": [
    {
     "data": {
      "text/plain": [
       "1"
      ]
     },
     "execution_count": 40,
     "metadata": {},
     "output_type": "execute_result"
    }
   ],
   "source": [
    "my_list[0]"
   ]
  },
  {
   "cell_type": "code",
   "execution_count": 41,
   "id": "ab7f2bbb",
   "metadata": {},
   "outputs": [
    {
     "data": {
      "text/plain": [
       "[2, 3]"
      ]
     },
     "execution_count": 41,
     "metadata": {},
     "output_type": "execute_result"
    }
   ],
   "source": [
    "my_list[1:3]"
   ]
  },
  {
   "cell_type": "code",
   "execution_count": 42,
   "id": "ae3628b5",
   "metadata": {},
   "outputs": [
    {
     "data": {
      "text/plain": [
       "[1, 2, 3, 4, 5, 'abc', 'def']"
      ]
     },
     "execution_count": 42,
     "metadata": {},
     "output_type": "execute_result"
    }
   ],
   "source": [
    "my_list+['abc','def'] ##this actually doesnt change the original list\n"
   ]
  },
  {
   "cell_type": "code",
   "execution_count": 43,
   "id": "af869a2c",
   "metadata": {},
   "outputs": [
    {
     "data": {
      "text/plain": [
       "[1, 2, 3, 4, 5]"
      ]
     },
     "execution_count": 43,
     "metadata": {},
     "output_type": "execute_result"
    }
   ],
   "source": [
    "my_list"
   ]
  },
  {
   "cell_type": "code",
   "execution_count": 44,
   "id": "28a91cf7",
   "metadata": {},
   "outputs": [],
   "source": [
    "my_list=[5,2,1,4]"
   ]
  },
  {
   "cell_type": "code",
   "execution_count": 45,
   "id": "b5a20bbd",
   "metadata": {},
   "outputs": [],
   "source": [
    "my_list.sort()"
   ]
  },
  {
   "cell_type": "code",
   "execution_count": 46,
   "id": "6f6a7e01",
   "metadata": {},
   "outputs": [
    {
     "data": {
      "text/plain": [
       "[1, 2, 4, 5]"
      ]
     },
     "execution_count": 46,
     "metadata": {},
     "output_type": "execute_result"
    }
   ],
   "source": [
    "my_list"
   ]
  },
  {
   "cell_type": "markdown",
   "id": "0afa0ee3",
   "metadata": {},
   "source": [
    "# List append() \n",
    "### It will use for to add an item to an existing list at the end of the list"
   ]
  },
  {
   "cell_type": "code",
   "execution_count": 47,
   "id": "281584df",
   "metadata": {},
   "outputs": [],
   "source": [
    "my_list.append(40)"
   ]
  },
  {
   "cell_type": "code",
   "execution_count": 48,
   "id": "f1df7fd9",
   "metadata": {},
   "outputs": [
    {
     "data": {
      "text/plain": [
       "[1, 2, 4, 5, 40]"
      ]
     },
     "execution_count": 48,
     "metadata": {},
     "output_type": "execute_result"
    }
   ],
   "source": [
    "my_list"
   ]
  },
  {
   "cell_type": "markdown",
   "id": "533f25f8",
   "metadata": {},
   "source": [
    "# List extend()\n",
    "### Used to merge a list to an existing list\n",
    "### It takes a list or any itterable as an argument and adds elements individually unlike append as an single element"
   ]
  },
  {
   "cell_type": "code",
   "execution_count": 49,
   "id": "135f72b2",
   "metadata": {},
   "outputs": [],
   "source": [
    "my_list.extend(['w','l','d'])"
   ]
  },
  {
   "cell_type": "code",
   "execution_count": 50,
   "id": "c8fe9e62",
   "metadata": {},
   "outputs": [
    {
     "data": {
      "text/plain": [
       "[1, 2, 4, 5, 40, 'w', 'l', 'd']"
      ]
     },
     "execution_count": 50,
     "metadata": {},
     "output_type": "execute_result"
    }
   ],
   "source": [
    "my_list"
   ]
  },
  {
   "cell_type": "code",
   "execution_count": 51,
   "id": "5796c0c4",
   "metadata": {},
   "outputs": [
    {
     "data": {
      "text/plain": [
       "'d'"
      ]
     },
     "execution_count": 51,
     "metadata": {},
     "output_type": "execute_result"
    }
   ],
   "source": [
    "my_list.pop()  # It removes last element"
   ]
  },
  {
   "cell_type": "code",
   "execution_count": 52,
   "id": "960f9383",
   "metadata": {},
   "outputs": [
    {
     "data": {
      "text/plain": [
       "[1, 2, 4, 5, 40, 'w', 'l']"
      ]
     },
     "execution_count": 52,
     "metadata": {},
     "output_type": "execute_result"
    }
   ],
   "source": [
    "my_list"
   ]
  },
  {
   "cell_type": "code",
   "execution_count": 53,
   "id": "2a942bd1",
   "metadata": {},
   "outputs": [
    {
     "data": {
      "text/plain": [
       "5"
      ]
     },
     "execution_count": 53,
     "metadata": {},
     "output_type": "execute_result"
    }
   ],
   "source": [
    "my_list.pop(3)  # It removes 3rd index element "
   ]
  },
  {
   "cell_type": "code",
   "execution_count": 54,
   "id": "faa4cc47",
   "metadata": {},
   "outputs": [
    {
     "data": {
      "text/plain": [
       "[1, 2, 4, 40, 'w', 'l']"
      ]
     },
     "execution_count": 54,
     "metadata": {},
     "output_type": "execute_result"
    }
   ],
   "source": [
    "my_list"
   ]
  },
  {
   "cell_type": "code",
   "execution_count": 55,
   "id": "cf018840",
   "metadata": {},
   "outputs": [],
   "source": [
    "my_list.remove('w')  # it removes first occurence of w from the existing list"
   ]
  },
  {
   "cell_type": "code",
   "execution_count": 56,
   "id": "2440d5a6",
   "metadata": {},
   "outputs": [
    {
     "data": {
      "text/plain": [
       "[1, 2, 4, 40, 'l']"
      ]
     },
     "execution_count": 56,
     "metadata": {},
     "output_type": "execute_result"
    }
   ],
   "source": [
    "my_list"
   ]
  },
  {
   "cell_type": "code",
   "execution_count": 57,
   "id": "d093dc5e",
   "metadata": {},
   "outputs": [
    {
     "data": {
      "text/plain": [
       "0"
      ]
     },
     "execution_count": 57,
     "metadata": {},
     "output_type": "execute_result"
    }
   ],
   "source": [
    "my_list.count('w')"
   ]
  },
  {
   "cell_type": "code",
   "execution_count": 58,
   "id": "e83e74f0",
   "metadata": {},
   "outputs": [
    {
     "data": {
      "text/plain": [
       "4"
      ]
     },
     "execution_count": 58,
     "metadata": {},
     "output_type": "execute_result"
    }
   ],
   "source": [
    "my_list.index('l')"
   ]
  },
  {
   "cell_type": "code",
   "execution_count": 59,
   "id": "4ae46a52",
   "metadata": {},
   "outputs": [
    {
     "data": {
      "text/plain": [
       "<function list.sort(*, key=None, reverse=False)>"
      ]
     },
     "execution_count": 59,
     "metadata": {},
     "output_type": "execute_result"
    }
   ],
   "source": [
    "my_list.sort"
   ]
  },
  {
   "cell_type": "code",
   "execution_count": 60,
   "id": "1143dafc",
   "metadata": {},
   "outputs": [
    {
     "data": {
      "text/plain": [
       "[1, 2, 4, 40, 'l']"
      ]
     },
     "execution_count": 60,
     "metadata": {},
     "output_type": "execute_result"
    }
   ],
   "source": [
    "my_list"
   ]
  },
  {
   "cell_type": "code",
   "execution_count": 61,
   "id": "91edeb67",
   "metadata": {},
   "outputs": [],
   "source": [
    "list1='q'\n",
    "list2='w'\n",
    "list3='r'"
   ]
  },
  {
   "cell_type": "code",
   "execution_count": 62,
   "id": "6e9cf4cf",
   "metadata": {},
   "outputs": [
    {
     "data": {
      "text/plain": [
       "['q', 'w', 'r']"
      ]
     },
     "execution_count": 62,
     "metadata": {},
     "output_type": "execute_result"
    }
   ],
   "source": [
    "listoflist = [list1, list2, list3]\n",
    "listoflist"
   ]
  },
  {
   "cell_type": "markdown",
   "id": "dc602aa1",
   "metadata": {},
   "source": [
    "# Python Tuple\n",
    "\n",
    "### Tuple is very similar to list, unlike list are immutable (cant be changed). Whereas tuple cant be changed.\n",
    "### we would like to use tuple to present things that shouldnt be changed such as days of the week or dates in a  calender.\n",
    "### Tuple can be given by using (   )."
   ]
  },
  {
   "cell_type": "code",
   "execution_count": 63,
   "id": "e411940d",
   "metadata": {},
   "outputs": [],
   "source": [
    "my_tuple=(1,'a',3.0)"
   ]
  },
  {
   "cell_type": "code",
   "execution_count": 64,
   "id": "76f8bebd",
   "metadata": {},
   "outputs": [
    {
     "data": {
      "text/plain": [
       "(1, 'a', 3.0)"
      ]
     },
     "execution_count": 64,
     "metadata": {},
     "output_type": "execute_result"
    }
   ],
   "source": [
    "my_tuple"
   ]
  },
  {
   "cell_type": "code",
   "execution_count": 65,
   "id": "c407cbe8",
   "metadata": {},
   "outputs": [
    {
     "data": {
      "text/plain": [
       "(1, 'a', 3.0)"
      ]
     },
     "execution_count": 65,
     "metadata": {},
     "output_type": "execute_result"
    }
   ],
   "source": [
    "my_tuple[0:3]"
   ]
  },
  {
   "cell_type": "code",
   "execution_count": 66,
   "id": "5edff553",
   "metadata": {},
   "outputs": [
    {
     "data": {
      "text/plain": [
       "2"
      ]
     },
     "execution_count": 66,
     "metadata": {},
     "output_type": "execute_result"
    }
   ],
   "source": [
    "my_tuple.index(3.0)"
   ]
  },
  {
   "cell_type": "code",
   "execution_count": 67,
   "id": "e515bb5b",
   "metadata": {},
   "outputs": [
    {
     "data": {
      "text/plain": [
       "1"
      ]
     },
     "execution_count": 67,
     "metadata": {},
     "output_type": "execute_result"
    }
   ],
   "source": [
    "my_tuple.count('a')"
   ]
  },
  {
   "cell_type": "code",
   "execution_count": null,
   "id": "aba843f2",
   "metadata": {},
   "outputs": [],
   "source": []
  }
 ],
 "metadata": {
  "kernelspec": {
   "display_name": "agenticaienv",
   "language": "python",
   "name": "python3"
  },
  "language_info": {
   "codemirror_mode": {
    "name": "ipython",
    "version": 3
   },
   "file_extension": ".py",
   "mimetype": "text/x-python",
   "name": "python",
   "nbconvert_exporter": "python",
   "pygments_lexer": "ipython3",
   "version": "3.11.13"
  }
 },
 "nbformat": 4,
 "nbformat_minor": 5
}
