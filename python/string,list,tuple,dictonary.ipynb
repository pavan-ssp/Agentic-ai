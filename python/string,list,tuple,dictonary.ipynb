{
 "cells": [
  {
   "cell_type": "markdown",
   "id": "78eef96e",
   "metadata": {},
   "source": [
    "# List : \n",
    "List is a collection which is ordered and changable . It allows duplicate members\n",
    "\n",
    "# Tuple :\n",
    "Tuple is a collection which is ordered and unchangable . It aloows duplicate members\n",
    "\n",
    "# Set :\n",
    "Set is a collection which is unordered and unindexed . No duplicate members allowed . While creating we can give duplicate members .\n",
    "\n",
    "# Dictionary :\n",
    "Dictionary is a collection which is ordered and changeable"
   ]
  },
  {
   "cell_type": "markdown",
   "id": "35183649",
   "metadata": {},
   "source": [
    "# STRING"
   ]
  },
  {
   "cell_type": "code",
   "execution_count": 1,
   "id": "fb7b5589",
   "metadata": {},
   "outputs": [],
   "source": [
    "string='Python'"
   ]
  },
  {
   "cell_type": "code",
   "execution_count": 2,
   "id": "73a52619",
   "metadata": {},
   "outputs": [
    {
     "name": "stdout",
     "output_type": "stream",
     "text": [
      "Python\n"
     ]
    },
    {
     "data": {
      "text/plain": [
       "'Python'"
      ]
     },
     "execution_count": 2,
     "metadata": {},
     "output_type": "execute_result"
    }
   ],
   "source": [
    "print(string)\n",
    "\n",
    "string"
   ]
  },
  {
   "cell_type": "code",
   "execution_count": 3,
   "id": "838bb959",
   "metadata": {},
   "outputs": [
    {
     "name": "stdout",
     "output_type": "stream",
     "text": [
      "regression\n"
     ]
    }
   ],
   "source": [
    "algorithm='regression'\n",
    "print(algorithm)"
   ]
  },
  {
   "cell_type": "code",
   "execution_count": 4,
   "id": "5bd916f2",
   "metadata": {},
   "outputs": [
    {
     "data": {
      "text/plain": [
       "10"
      ]
     },
     "execution_count": 4,
     "metadata": {},
     "output_type": "execute_result"
    }
   ],
   "source": [
    "len(algorithm)  ## It counts Including Spaces and punctuation "
   ]
  },
  {
   "cell_type": "markdown",
   "id": "e08d5888",
   "metadata": {},
   "source": [
    "## Python String Indexing [it counts starts from 0]"
   ]
  },
  {
   "cell_type": "code",
   "execution_count": 5,
   "id": "bf37601d",
   "metadata": {},
   "outputs": [],
   "source": [
    "string1=\"principal component analysis\""
   ]
  },
  {
   "cell_type": "code",
   "execution_count": 6,
   "id": "7ba62ad1",
   "metadata": {},
   "outputs": [
    {
     "data": {
      "text/plain": [
       "'p'"
      ]
     },
     "execution_count": 6,
     "metadata": {},
     "output_type": "execute_result"
    }
   ],
   "source": [
    "string1[0]"
   ]
  },
  {
   "cell_type": "code",
   "execution_count": 7,
   "id": "04e10278",
   "metadata": {},
   "outputs": [
    {
     "data": {
      "text/plain": [
       "'s'"
      ]
     },
     "execution_count": 7,
     "metadata": {},
     "output_type": "execute_result"
    }
   ],
   "source": [
    "string1[-1]"
   ]
  },
  {
   "cell_type": "code",
   "execution_count": 8,
   "id": "8a0b0406",
   "metadata": {},
   "outputs": [
    {
     "data": {
      "text/plain": [
       "' '"
      ]
     },
     "execution_count": 8,
     "metadata": {},
     "output_type": "execute_result"
    }
   ],
   "source": [
    "string1[9]"
   ]
  },
  {
   "cell_type": "code",
   "execution_count": 9,
   "id": "28d6323b",
   "metadata": {},
   "outputs": [
    {
     "data": {
      "text/plain": [
       "'rincipal '"
      ]
     },
     "execution_count": 9,
     "metadata": {},
     "output_type": "execute_result"
    }
   ],
   "source": [
    "string1[1:10]"
   ]
  },
  {
   "cell_type": "code",
   "execution_count": 10,
   "id": "a9456e60",
   "metadata": {},
   "outputs": [
    {
     "data": {
      "text/plain": [
       "'principal component analysis'"
      ]
     },
     "execution_count": 10,
     "metadata": {},
     "output_type": "execute_result"
    }
   ],
   "source": [
    "string1[:]"
   ]
  },
  {
   "cell_type": "code",
   "execution_count": 11,
   "id": "4915741f",
   "metadata": {},
   "outputs": [
    {
     "data": {
      "text/plain": [
       "'principal component analysis'"
      ]
     },
     "execution_count": 11,
     "metadata": {},
     "output_type": "execute_result"
    }
   ],
   "source": [
    "string1[::]"
   ]
  },
  {
   "cell_type": "code",
   "execution_count": 12,
   "id": "4d27ca22",
   "metadata": {},
   "outputs": [
    {
     "data": {
      "text/plain": [
       "'picplcmoetaayi'"
      ]
     },
     "execution_count": 12,
     "metadata": {},
     "output_type": "execute_result"
    }
   ],
   "source": [
    "string1[::2]"
   ]
  },
  {
   "cell_type": "code",
   "execution_count": 13,
   "id": "0fceb012",
   "metadata": {},
   "outputs": [
    {
     "data": {
      "text/plain": [
       "'sisylana tnenopmoc lapicnirp'"
      ]
     },
     "execution_count": 13,
     "metadata": {},
     "output_type": "execute_result"
    }
   ],
   "source": [
    "string1[::-1]"
   ]
  },
  {
   "cell_type": "code",
   "execution_count": 14,
   "id": "e77fa6da",
   "metadata": {},
   "outputs": [
    {
     "data": {
      "text/plain": [
       "'icnirp'"
      ]
     },
     "execution_count": 14,
     "metadata": {},
     "output_type": "execute_result"
    }
   ],
   "source": [
    "string1[5::-1]"
   ]
  },
  {
   "cell_type": "code",
   "execution_count": 15,
   "id": "15668e32",
   "metadata": {},
   "outputs": [
    {
     "data": {
      "text/plain": [
       "'icni'"
      ]
     },
     "execution_count": 15,
     "metadata": {},
     "output_type": "execute_result"
    }
   ],
   "source": [
    "string1[5:1:-1]"
   ]
  },
  {
   "cell_type": "code",
   "execution_count": 16,
   "id": "2392e747",
   "metadata": {},
   "outputs": [
    {
     "ename": "TypeError",
     "evalue": "'str' object does not support item assignment",
     "output_type": "error",
     "traceback": [
      "\u001b[31m---------------------------------------------------------------------------\u001b[39m",
      "\u001b[31mTypeError\u001b[39m                                 Traceback (most recent call last)",
      "\u001b[36mCell\u001b[39m\u001b[36m \u001b[39m\u001b[32mIn[16]\u001b[39m\u001b[32m, line 1\u001b[39m\n\u001b[32m----> \u001b[39m\u001b[32m1\u001b[39m \u001b[43mstring1\u001b[49m\u001b[43m[\u001b[49m\u001b[32;43m0\u001b[39;49m\u001b[43m]\u001b[49m=\u001b[33m'\u001b[39m\u001b[33mi\u001b[39m\u001b[33m'\u001b[39m  \u001b[38;5;66;03m##cant be changed\u001b[39;00m\n",
      "\u001b[31mTypeError\u001b[39m: 'str' object does not support item assignment"
     ]
    }
   ],
   "source": [
    "string1[0]='i'  ##cant be changed"
   ]
  },
  {
   "cell_type": "code",
   "execution_count": 17,
   "id": "d4f69c7f",
   "metadata": {},
   "outputs": [],
   "source": [
    "string2= ' is better '"
   ]
  },
  {
   "cell_type": "code",
   "execution_count": 18,
   "id": "b0906e40",
   "metadata": {},
   "outputs": [
    {
     "data": {
      "text/plain": [
       "'principal component analysis is better '"
      ]
     },
     "execution_count": 18,
     "metadata": {},
     "output_type": "execute_result"
    }
   ],
   "source": [
    "string1+string2"
   ]
  },
  {
   "cell_type": "code",
   "execution_count": 19,
   "id": "4118ed15",
   "metadata": {},
   "outputs": [],
   "source": [
    "string3= 4"
   ]
  },
  {
   "cell_type": "code",
   "execution_count": 20,
   "id": "67ca6a85",
   "metadata": {},
   "outputs": [
    {
     "data": {
      "text/plain": [
       "'principal component analysis is better 4'"
      ]
     },
     "execution_count": 20,
     "metadata": {},
     "output_type": "execute_result"
    }
   ],
   "source": [
    "string1+string2+ str(string3)"
   ]
  },
  {
   "cell_type": "code",
   "execution_count": 21,
   "id": "1deeef1f",
   "metadata": {},
   "outputs": [
    {
     "data": {
      "text/plain": [
       "'principal component analysis'"
      ]
     },
     "execution_count": 21,
     "metadata": {},
     "output_type": "execute_result"
    }
   ],
   "source": [
    "string1.strip()  ##  Removes whitespaces front or end of the string"
   ]
  },
  {
   "cell_type": "code",
   "execution_count": 22,
   "id": "998da3ef",
   "metadata": {},
   "outputs": [
    {
     "data": {
      "text/plain": [
       "'PRINCIPAL COMPONENT ANALYSIS'"
      ]
     },
     "execution_count": 22,
     "metadata": {},
     "output_type": "execute_result"
    }
   ],
   "source": [
    "string1.upper()"
   ]
  },
  {
   "cell_type": "code",
   "execution_count": 23,
   "id": "84ac67df",
   "metadata": {},
   "outputs": [
    {
     "data": {
      "text/plain": [
       "'principal component analysis'"
      ]
     },
     "execution_count": 23,
     "metadata": {},
     "output_type": "execute_result"
    }
   ],
   "source": [
    "string1.lower()"
   ]
  },
  {
   "cell_type": "code",
   "execution_count": 24,
   "id": "2fa05200",
   "metadata": {},
   "outputs": [
    {
     "data": {
      "text/plain": [
       "2"
      ]
     },
     "execution_count": 24,
     "metadata": {},
     "output_type": "execute_result"
    }
   ],
   "source": [
    "string1.count('o')"
   ]
  },
  {
   "cell_type": "code",
   "execution_count": 25,
   "id": "7204d31b",
   "metadata": {},
   "outputs": [
    {
     "data": {
      "text/plain": [
       "2"
      ]
     },
     "execution_count": 25,
     "metadata": {},
     "output_type": "execute_result"
    }
   ],
   "source": [
    "string1.count(' ')"
   ]
  },
  {
   "cell_type": "code",
   "execution_count": 26,
   "id": "2fda28f4",
   "metadata": {},
   "outputs": [
    {
     "data": {
      "text/plain": [
       "20"
      ]
     },
     "execution_count": 26,
     "metadata": {},
     "output_type": "execute_result"
    }
   ],
   "source": [
    "string1.find(\"ana\")"
   ]
  },
  {
   "cell_type": "code",
   "execution_count": 27,
   "id": "91c9e276",
   "metadata": {},
   "outputs": [
    {
     "data": {
      "text/plain": [
       "-1"
      ]
     },
     "execution_count": 27,
     "metadata": {},
     "output_type": "execute_result"
    }
   ],
   "source": [
    "string1.find('arg')   ## returns -1 if it not found else return index of the first elemnet"
   ]
  },
  {
   "cell_type": "code",
   "execution_count": 28,
   "id": "b46be004",
   "metadata": {},
   "outputs": [],
   "source": [
    "firstname= ' satya surya pavan '"
   ]
  },
  {
   "cell_type": "code",
   "execution_count": 29,
   "id": "d03a387b",
   "metadata": {},
   "outputs": [],
   "source": [
    "lastname= ' chanduri '"
   ]
  },
  {
   "cell_type": "code",
   "execution_count": 30,
   "id": "37c4a6f8",
   "metadata": {},
   "outputs": [],
   "source": [
    "fullname= f' Full name is {firstname} , {lastname}'"
   ]
  },
  {
   "cell_type": "code",
   "execution_count": 31,
   "id": "0faa10d7",
   "metadata": {},
   "outputs": [
    {
     "data": {
      "text/plain": [
       "' Full name is  satya surya pavan  ,  chanduri '"
      ]
     },
     "execution_count": 31,
     "metadata": {},
     "output_type": "execute_result"
    }
   ],
   "source": [
    "fullname"
   ]
  },
  {
   "cell_type": "code",
   "execution_count": 32,
   "id": "a26b24ba",
   "metadata": {},
   "outputs": [
    {
     "data": {
      "text/plain": [
       "False"
      ]
     },
     "execution_count": 32,
     "metadata": {},
     "output_type": "execute_result"
    }
   ],
   "source": [
    "'kumar' in fullname    ## returns true if exists otherwise false"
   ]
  },
  {
   "cell_type": "code",
   "execution_count": 33,
   "id": "6466c3a2",
   "metadata": {},
   "outputs": [],
   "source": [
    "age=24\n",
    "txt= f' Name is {firstname} , {lastname} and age is {age}'"
   ]
  },
  {
   "cell_type": "code",
   "execution_count": 34,
   "id": "c4b683da",
   "metadata": {},
   "outputs": [
    {
     "data": {
      "text/plain": [
       "' Name is  satya surya pavan  ,  chanduri  and age is 24'"
      ]
     },
     "execution_count": 34,
     "metadata": {},
     "output_type": "execute_result"
    }
   ],
   "source": [
    "txt"
   ]
  },
  {
   "cell_type": "code",
   "execution_count": 35,
   "id": "5b8903f7",
   "metadata": {},
   "outputs": [
    {
     "name": "stdout",
     "output_type": "stream",
     "text": [
      "name is kumar and age is 36\n"
     ]
    }
   ],
   "source": [
    "age=36\n",
    "txt= 'name is kumar and age is {}'\n",
    "print(txt.format(age))"
   ]
  },
  {
   "cell_type": "code",
   "execution_count": 36,
   "id": "754a39a1",
   "metadata": {},
   "outputs": [],
   "source": [
    "p=1\n",
    "q=2\n",
    "r=3"
   ]
  },
  {
   "cell_type": "code",
   "execution_count": 37,
   "id": "62879234",
   "metadata": {},
   "outputs": [
    {
     "name": "stdout",
     "output_type": "stream",
     "text": [
      "i have 1 piece and my brother have 2 peices and my father and mother have 3 pieces\n"
     ]
    }
   ],
   "source": [
    "myorder='i have {} piece and my brother have {} peices and my father and mother have {} pieces'\n",
    "print(myorder.format(p,q,r))"
   ]
  }
 ],
 "metadata": {
  "kernelspec": {
   "display_name": "agenticaienv",
   "language": "python",
   "name": "python3"
  },
  "language_info": {
   "codemirror_mode": {
    "name": "ipython",
    "version": 3
   },
   "file_extension": ".py",
   "mimetype": "text/x-python",
   "name": "python",
   "nbconvert_exporter": "python",
   "pygments_lexer": "ipython3",
   "version": "3.11.13"
  }
 },
 "nbformat": 4,
 "nbformat_minor": 5
}
