{
 "cells": [
  {
   "cell_type": "markdown",
   "id": "46e9750c",
   "metadata": {},
   "source": [
    "#### NLP [Natural Language Processing]\n",
    "\n",
    "Here we use NLTK Library To convert a paragraph into sentences and words from the paragragh for further processing."
   ]
  },
  {
   "cell_type": "code",
   "execution_count": null,
   "id": "3757efd2",
   "metadata": {},
   "outputs": [],
   "source": [
    "import nltk\n",
    "nltk.download('punkt')\n"
   ]
  },
  {
   "cell_type": "code",
   "execution_count": null,
   "id": "c656b7c6",
   "metadata": {},
   "outputs": [],
   "source": [
    "paragragh=\"\"\"\n",
    "Natural Language Processing (NLP) is a field of artificial intelligence that focuses on the interaction between computers and human languages.\n",
    "It involves various tasks, such as text analysis, sentiment analysis, and machine translation.\n",
    "One of the most common NLP tasks is tokenization, which is the process of splitting text into smaller units.\n",
    "These units can be words or sentences. In tokenization, the text is divided into sentences using sentence tokenization,\n",
    "and each sentence is further broken down into individual words using word tokenization.\n",
    "Tokenization is a crucial step for many other NLP applications, including text classification and named entity recognition.\n",
    "\"\"\""
   ]
  },
  {
   "cell_type": "code",
   "execution_count": null,
   "id": "a858ff45",
   "metadata": {},
   "outputs": [],
   "source": [
    "sentences=nltk.sent_tokenize(paragragh)\n",
    "words=nltk.word_tokenize(paragragh)"
   ]
  },
  {
   "cell_type": "code",
   "execution_count": null,
   "id": "1a1bed7e",
   "metadata": {},
   "outputs": [],
   "source": [
    "sentences"
   ]
  },
  {
   "cell_type": "code",
   "execution_count": null,
   "id": "fa3b9ec3",
   "metadata": {},
   "outputs": [],
   "source": [
    "words"
   ]
  }
 ],
 "metadata": {
  "kernelspec": {
   "display_name": "agenticaienv",
   "language": "python",
   "name": "python3"
  },
  "language_info": {
   "codemirror_mode": {
    "name": "ipython",
    "version": 3
   },
   "file_extension": ".py",
   "mimetype": "text/x-python",
   "name": "python",
   "nbconvert_exporter": "python",
   "pygments_lexer": "ipython3",
   "version": "3.11.13"
  }
 },
 "nbformat": 4,
 "nbformat_minor": 5
}
