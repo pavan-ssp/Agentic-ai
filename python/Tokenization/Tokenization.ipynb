{
 "cells": [
  {
   "cell_type": "markdown",
   "id": "46e9750c",
   "metadata": {},
   "source": [
    "#### NLP [Natural Language Processing]\n",
    "\n",
    "Here we use NLTK Library To convert a paragraph into sentences and words from the paragragh for further processing."
   ]
  },
  {
   "cell_type": "code",
   "execution_count": 3,
   "id": "3757efd2",
   "metadata": {},
   "outputs": [],
   "source": [
    "import nltk\n",
    "nltk.download('punkt')\n"
   ]
  },
  {
   "cell_type": "code",
   "execution_count": 4,
   "id": "c656b7c6",
   "metadata": {},
   "outputs": [],
   "source": [
    "paragragh=\"\"\"\n",
    "Natural Language Processing (NLP) is a field of artificial intelligence that focuses on the interaction between computers and human languages.\n",
    "It involves various tasks, such as text analysis, sentiment analysis, and machine translation.\n",
    "One of the most common NLP tasks is tokenization, which is the process of splitting text into smaller units.\n",
    "These units can be words or sentences. In tokenization, the text is divided into sentences using sentence tokenization,\n",
    "and each sentence is further broken down into individual words using word tokenization.\n",
    "Tokenization is a crucial step for many other NLP applications, including text classification and named entity recognition.\n",
    "\"\"\""
   ]
  },
  {
   "cell_type": "code",
   "execution_count": 5,
   "id": "a858ff45",
   "metadata": {},
   "outputs": [],
   "source": [
    "sentences=nltk.sent_tokenize(paragragh)\n",
    "words=nltk.word_tokenize(paragragh)"
   ]
  },
  {
   "cell_type": "code",
   "execution_count": 6,
   "id": "1a1bed7e",
   "metadata": {},
   "outputs": [
    {
     "data": {
      "text/plain": [
       "['\\nNatural Language Processing (NLP) is a field of artificial intelligence that focuses on the interaction between computers and human languages.',\n",
       " 'It involves various tasks, such as text analysis, sentiment analysis, and machine translation.',\n",
       " 'One of the most common NLP tasks is tokenization, which is the process of splitting text into smaller units.',\n",
       " 'These units can be words or sentences.',\n",
       " 'In tokenization, the text is divided into sentences using sentence tokenization,\\nand each sentence is further broken down into individual words using word tokenization.',\n",
       " 'Tokenization is a crucial step for many other NLP applications, including text classification and named entity recognition.']"
      ]
     },
     "execution_count": 6,
     "metadata": {},
     "output_type": "execute_result"
    }
   ],
   "source": [
    "sentences"
   ]
  },
  {
   "cell_type": "code",
   "execution_count": null,
   "id": "fa3b9ec3",
   "metadata": {},
   "outputs": [
    {
     "data": {
      "text/plain": [
       "['Natural',\n",
       " 'Language',\n",
       " 'Processing',\n",
       " '(',\n",
       " 'NLP',\n",
       " ')',\n",
       " 'is',\n",
       " 'a',\n",
       " 'field',\n",
       " 'of',\n",
       " 'artificial',\n",
       " 'intelligence',\n",
       " 'that',\n",
       " 'focuses',\n",
       " 'on',\n",
       " 'the',\n",
       " 'interaction',\n",
       " 'between',\n",
       " 'computers',\n",
       " 'and',\n",
       " 'human',\n",
       " 'languages',\n",
       " '.',\n",
       " 'It',\n",
       " 'involves',\n",
       " 'various',\n",
       " 'tasks',\n",
       " ',',\n",
       " 'such',\n",
       " 'as',\n",
       " 'text',\n",
       " 'analysis',\n",
       " ',',\n",
       " 'sentiment',\n",
       " 'analysis',\n",
       " ',',\n",
       " 'and',\n",
       " 'machine',\n",
       " 'translation',\n",
       " '.',\n",
       " 'One',\n",
       " 'of',\n",
       " 'the',\n",
       " 'most',\n",
       " 'common',\n",
       " 'NLP',\n",
       " 'tasks',\n",
       " 'is',\n",
       " 'tokenization',\n",
       " ',',\n",
       " 'which',\n",
       " 'is',\n",
       " 'the',\n",
       " 'process',\n",
       " 'of',\n",
       " 'splitting',\n",
       " 'text',\n",
       " 'into',\n",
       " 'smaller',\n",
       " 'units',\n",
       " '.',\n",
       " 'These',\n",
       " 'units',\n",
       " 'can',\n",
       " 'be',\n",
       " 'words',\n",
       " 'or',\n",
       " 'sentences',\n",
       " '.',\n",
       " 'In',\n",
       " 'tokenization',\n",
       " ',',\n",
       " 'the',\n",
       " 'text',\n",
       " 'is',\n",
       " 'divided',\n",
       " 'into',\n",
       " 'sentences',\n",
       " 'using',\n",
       " 'sentence',\n",
       " 'tokenization',\n",
       " ',',\n",
       " 'and',\n",
       " 'each',\n",
       " 'sentence',\n",
       " 'is',\n",
       " 'further',\n",
       " 'broken',\n",
       " 'down',\n",
       " 'into',\n",
       " 'individual',\n",
       " 'words',\n",
       " 'using',\n",
       " 'word',\n",
       " 'tokenization',\n",
       " '.',\n",
       " 'Tokenization',\n",
       " 'is',\n",
       " 'a',\n",
       " 'crucial',\n",
       " 'step',\n",
       " 'for',\n",
       " 'many',\n",
       " 'other',\n",
       " 'NLP',\n",
       " 'applications',\n",
       " ',',\n",
       " 'including',\n",
       " 'text',\n",
       " 'classification',\n",
       " 'and',\n",
       " 'named',\n",
       " 'entity',\n",
       " 'recognition',\n",
       " '.']"
      ]
     },
     "execution_count": 7,
     "metadata": {},
     "output_type": "execute_result"
    },
    {
     "ename": "",
     "evalue": "",
     "output_type": "error",
     "traceback": [
      "\u001b[1;31mThe Kernel crashed while executing code in the current cell or a previous cell. \n",
      "\u001b[1;31mPlease review the code in the cell(s) to identify a possible cause of the failure. \n",
      "\u001b[1;31mClick <a href='https://aka.ms/vscodeJupyterKernelCrash'>here</a> for more info. \n",
      "\u001b[1;31mView Jupyter <a href='command:jupyter.viewOutput'>log</a> for further details."
     ]
    }
   ],
   "source": [
    "words"
   ]
  }
 ],
 "metadata": {
  "kernelspec": {
   "display_name": "agenticaienv",
   "language": "python",
   "name": "python3"
  },
  "language_info": {
   "codemirror_mode": {
    "name": "ipython",
    "version": 3
   },
   "file_extension": ".py",
   "mimetype": "text/x-python",
   "name": "python",
   "nbconvert_exporter": "python",
   "pygments_lexer": "ipython3",
   "version": "3.11.13"
  }
 },
 "nbformat": 4,
 "nbformat_minor": 5
}
